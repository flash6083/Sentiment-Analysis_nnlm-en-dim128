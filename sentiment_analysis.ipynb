{
  "nbformat": 4,
  "nbformat_minor": 0,
  "metadata": {
    "colab": {
      "provenance": []
    },
    "kernelspec": {
      "name": "python3",
      "display_name": "Python 3"
    },
    "language_info": {
      "name": "python"
    },
    "accelerator": "GPU",
    "gpuClass": "standard"
  },
  "cells": [
    {
      "cell_type": "markdown",
      "source": [
        "### **Sentiment Analysis performed on dataset from Movie Review Data at [*IMDB Review*](https://www.tensorflow.org/datasets/catalog/imdb_reviews)** using Tensorflow Hub Text-embedding model by Google"
      ],
      "metadata": {
        "id": "Zi8p8bo-ZFFI"
      }
    },
    {
      "cell_type": "code",
      "execution_count": null,
      "metadata": {
        "colab": {
          "base_uri": "https://localhost:8080/"
        },
        "id": "Ctzg_naDY6Cy",
        "outputId": "81a3caa4-b40c-4758-fc55-7e5e6bef1ac8"
      },
      "outputs": [
        {
          "output_type": "stream",
          "name": "stdout",
          "text": [
            "Version:  2.12.0\n",
            "Eager mode:  True\n",
            "Hub version:  0.13.0\n",
            "GPU is available\n"
          ]
        }
      ],
      "source": [
        "# Imports\n",
        "import os\n",
        "import numpy as np\n",
        "\n",
        "import tensorflow as tf\n",
        "import tensorflow_hub as hub\n",
        "import tensorflow_datasets as tfds\n",
        "import matplotlib.pyplot as plt\n",
        "\n",
        "print(\"Version: \", tf.__version__)\n",
        "print(\"Eager mode: \", tf.executing_eagerly())\n",
        "print(\"Hub version: \", hub.__version__)\n",
        "print(\"GPU is\", \"available\" if tf.config.list_physical_devices(\"GPU\") else \"NOT AVAILABLE\")"
      ]
    },
    {
      "cell_type": "code",
      "source": [
        "# Loading the training and testing data from Tensorflow Datasets\n",
        "train_data, validation_data, test_data = tfds.load(\n",
        "    name=\"imdb_reviews\", \n",
        "    split=('train[:80%]', 'train[20%:]', 'test'),\n",
        "    as_supervised=True)\n"
      ],
      "metadata": {
        "id": "0kWmQGP5eUNi"
      },
      "execution_count": null,
      "outputs": []
    },
    {
      "cell_type": "code",
      "source": [
        "type(train_data), len(validation_data), len(test_data), len(train_data)"
      ],
      "metadata": {
        "colab": {
          "base_uri": "https://localhost:8080/"
        },
        "id": "AwUx91Amft2w",
        "outputId": "aaa7375a-d993-42d7-e343-12121aab040b"
      },
      "execution_count": null,
      "outputs": [
        {
          "output_type": "execute_result",
          "data": {
            "text/plain": [
              "(tensorflow.python.data.ops.prefetch_op._PrefetchDataset, 20000, 25000, 20000)"
            ]
          },
          "metadata": {},
          "execution_count": 3
        }
      ]
    },
    {
      "cell_type": "code",
      "source": [
        "# Exploring the dataset\n",
        "for example, label in train_data.take(5):\n",
        "  print('text: ', example.numpy())\n",
        "  print('label: ', label.numpy())"
      ],
      "metadata": {
        "colab": {
          "base_uri": "https://localhost:8080/"
        },
        "id": "TUiQkxv9fPyK",
        "outputId": "384cddf9-3443-45a5-b010-f8e05ec990db"
      },
      "execution_count": null,
      "outputs": [
        {
          "output_type": "stream",
          "name": "stdout",
          "text": [
            "text:  b\"This was an absolutely terrible movie. Don't be lured in by Christopher Walken or Michael Ironside. Both are great actors, but this must simply be their worst role in history. Even their great acting could not redeem this movie's ridiculous storyline. This movie is an early nineties US propaganda piece. The most pathetic scenes were those when the Columbian rebels were making their cases for revolutions. Maria Conchita Alonso appeared phony, and her pseudo-love affair with Walken was nothing but a pathetic emotional plug in a movie that was devoid of any real meaning. I am disappointed that there are movies like this, ruining actor's like Christopher Walken's good name. I could barely sit through it.\"\n",
            "label:  0\n",
            "text:  b'I have been known to fall asleep during films, but this is usually due to a combination of things including, really tired, being warm and comfortable on the sette and having just eaten a lot. However on this occasion I fell asleep because the film was rubbish. The plot development was constant. Constantly slow and boring. Things seemed to happen, but with no explanation of what was causing them or why. I admit, I may have missed part of the film, but i watched the majority of it and everything just seemed to happen of its own accord without any real concern for anything else. I cant recommend this film at all.'\n",
            "label:  0\n",
            "text:  b'Mann photographs the Alberta Rocky Mountains in a superb fashion, and Jimmy Stewart and Walter Brennan give enjoyable performances as they always seem to do. <br /><br />But come on Hollywood - a Mountie telling the people of Dawson City, Yukon to elect themselves a marshal (yes a marshal!) and to enforce the law themselves, then gunfighters battling it out on the streets for control of the town? <br /><br />Nothing even remotely resembling that happened on the Canadian side of the border during the Klondike gold rush. Mr. Mann and company appear to have mistaken Dawson City for Deadwood, the Canadian North for the American Wild West.<br /><br />Canadian viewers be prepared for a Reefer Madness type of enjoyable howl with this ludicrous plot, or, to shake your head in disgust.'\n",
            "label:  0\n",
            "text:  b'This is the kind of film for a snowy Sunday afternoon when the rest of the world can go ahead with its own business as you descend into a big arm-chair and mellow for a couple of hours. Wonderful performances from Cher and Nicolas Cage (as always) gently row the plot along. There are no rapids to cross, no dangerous waters, just a warm and witty paddle through New York life at its best. A family film in every sense and one that deserves the praise it received.'\n",
            "label:  1\n",
            "text:  b'As others have mentioned, all the women that go nude in this film are mostly absolutely gorgeous. The plot very ably shows the hypocrisy of the female libido. When men are around they want to be pursued, but when no \"men\" are around, they become the pursuers of a 14 year old boy. And the boy becomes a man really fast (we should all be so lucky at this age!). He then gets up the courage to pursue his true love.'\n",
            "label:  1\n"
          ]
        }
      ]
    },
    {
      "cell_type": "markdown",
      "source": [
        "#### **Using the embedding model -**\n",
        "*nnlm-en-dim128-with-normalization*\n",
        "\n",
        "[Token based text embedding trained on English Google News 200B corpus](https://tfhub.dev/google/nnlm-en-dim128-with-normalization/2)"
      ],
      "metadata": {
        "id": "2sgQTIDFg-xX"
      }
    },
    {
      "cell_type": "code",
      "source": [
        "# Defining the embedding layer from tensorflow hub\n",
        "\n",
        "embedding_url = 'https://tfhub.dev/google/nnlm-en-dim128-with-normalization/2'\n",
        "embedding_layer = hub.KerasLayer(embedding_url, input_shape=[], dtype=tf.string, trainable=True)\n"
      ],
      "metadata": {
        "id": "2_Vaz8Aefp_o"
      },
      "execution_count": null,
      "outputs": []
    },
    {
      "cell_type": "code",
      "source": [
        "embedding_layer(['I love roses', 'Rose is a flower'])"
      ],
      "metadata": {
        "id": "gMvMinHkhMNH"
      },
      "execution_count": null,
      "outputs": []
    },
    {
      "cell_type": "code",
      "source": [
        "# Designing the model for text-classification\n",
        "\n",
        "model = tf.keras.Sequential([\n",
        "    embedding_layer,\n",
        "    tf.keras.layers.Dense(16, 'relu'),\n",
        "    tf.keras.layers.Dense(1)\n",
        "])\n"
      ],
      "metadata": {
        "id": "T-jNO5hrhfru"
      },
      "execution_count": null,
      "outputs": []
    },
    {
      "cell_type": "code",
      "source": [
        "model.summary()"
      ],
      "metadata": {
        "colab": {
          "base_uri": "https://localhost:8080/"
        },
        "id": "SdCndnBbifRH",
        "outputId": "88c64e3d-e689-48d7-ea61-ae5d05e5333f"
      },
      "execution_count": null,
      "outputs": [
        {
          "output_type": "stream",
          "name": "stdout",
          "text": [
            "Model: \"sequential\"\n",
            "_________________________________________________________________\n",
            " Layer (type)                Output Shape              Param #   \n",
            "=================================================================\n",
            " keras_layer (KerasLayer)    (None, 128)               124642688 \n",
            "                                                                 \n",
            " dense (Dense)               (None, 16)                2064      \n",
            "                                                                 \n",
            " dense_1 (Dense)             (None, 1)                 17        \n",
            "                                                                 \n",
            "=================================================================\n",
            "Total params: 124,644,769\n",
            "Trainable params: 124,644,769\n",
            "Non-trainable params: 0\n",
            "_________________________________________________________________\n"
          ]
        }
      ]
    },
    {
      "cell_type": "code",
      "source": [
        "# Compiling the model\n",
        "\n",
        "model.compile(optimizer='adam',\n",
        "              loss=tf.keras.losses.BinaryCrossentropy(from_logits=True),\n",
        "              metrics=['accuracy'])"
      ],
      "metadata": {
        "id": "Lk5wpj-4i5O8"
      },
      "execution_count": null,
      "outputs": []
    },
    {
      "cell_type": "code",
      "source": [
        "# !mkdir tensor_log"
      ],
      "metadata": {
        "id": "cItVVstIjvKV"
      },
      "execution_count": null,
      "outputs": []
    },
    {
      "cell_type": "code",
      "source": [
        "# logdir = '/content/tensor_log'\n",
        "# tensorboard_callback = tf.keras.callbacks.TensorBoard(logdir, histogram_freq=1)"
      ],
      "metadata": {
        "id": "Lqpk1YoFjgf9"
      },
      "execution_count": null,
      "outputs": []
    },
    {
      "cell_type": "code",
      "source": [
        "# Fitting the model with data\n",
        "\n",
        "r = model.fit(train_data.shuffle(10000).batch(512),\n",
        "                    epochs=10,\n",
        "                    validation_data=validation_data.batch(512),\n",
        "                    verbose=1,\n",
        "                   )"
      ],
      "metadata": {
        "colab": {
          "base_uri": "https://localhost:8080/"
        },
        "id": "pBgo9kOljAmD",
        "outputId": "6ece3778-6c6a-4828-a55c-b0906dadd533"
      },
      "execution_count": null,
      "outputs": [
        {
          "output_type": "stream",
          "name": "stdout",
          "text": [
            "Epoch 1/10\n",
            "40/40 [==============================] - 19s 324ms/step - loss: 0.6033 - accuracy: 0.5918 - val_loss: 0.4830 - val_accuracy: 0.7630\n",
            "Epoch 2/10\n",
            "40/40 [==============================] - 12s 298ms/step - loss: 0.3814 - accuracy: 0.8377 - val_loss: 0.2743 - val_accuracy: 0.8933\n",
            "Epoch 3/10\n",
            "40/40 [==============================] - 11s 267ms/step - loss: 0.2203 - accuracy: 0.9166 - val_loss: 0.1827 - val_accuracy: 0.9272\n",
            "Epoch 4/10\n",
            "40/40 [==============================] - 11s 279ms/step - loss: 0.1397 - accuracy: 0.9518 - val_loss: 0.1357 - val_accuracy: 0.9570\n",
            "Epoch 5/10\n",
            "40/40 [==============================] - 11s 281ms/step - loss: 0.0923 - accuracy: 0.9728 - val_loss: 0.1097 - val_accuracy: 0.9649\n",
            "Epoch 6/10\n",
            "40/40 [==============================] - 11s 270ms/step - loss: 0.0589 - accuracy: 0.9855 - val_loss: 0.0950 - val_accuracy: 0.9688\n",
            "Epoch 7/10\n",
            "40/40 [==============================] - 11s 271ms/step - loss: 0.0380 - accuracy: 0.9931 - val_loss: 0.0873 - val_accuracy: 0.9706\n",
            "Epoch 8/10\n",
            "40/40 [==============================] - 11s 274ms/step - loss: 0.0247 - accuracy: 0.9966 - val_loss: 0.0841 - val_accuracy: 0.9727\n",
            "Epoch 9/10\n",
            "40/40 [==============================] - 11s 271ms/step - loss: 0.0165 - accuracy: 0.9983 - val_loss: 0.0832 - val_accuracy: 0.9722\n",
            "Epoch 10/10\n",
            "40/40 [==============================] - 12s 286ms/step - loss: 0.0106 - accuracy: 0.9991 - val_loss: 0.0838 - val_accuracy: 0.9732\n"
          ]
        }
      ]
    },
    {
      "cell_type": "code",
      "source": [
        "results = model.evaluate(test_data.batch(512), verbose=2)\n",
        "\n",
        "for name, value in zip(model.metrics_names, results):\n",
        "  print(\"%s: %.3f\" % (name, value))"
      ],
      "metadata": {
        "colab": {
          "base_uri": "https://localhost:8080/"
        },
        "id": "AFOR2QchoQG5",
        "outputId": "cc6e82a4-a4cb-41c7-d464-d56215bacd11"
      },
      "execution_count": null,
      "outputs": [
        {
          "output_type": "stream",
          "name": "stdout",
          "text": [
            "49/49 - 4s - loss: 0.3837 - accuracy: 0.8692 - 4s/epoch - 89ms/step\n",
            "loss: 0.384\n",
            "accuracy: 0.869\n"
          ]
        }
      ]
    },
    {
      "cell_type": "code",
      "source": [
        "model.evaluate()"
      ],
      "metadata": {
        "id": "ibGoh2f91XOT"
      },
      "execution_count": null,
      "outputs": []
    },
    {
      "cell_type": "code",
      "source": [
        "# Plotting loss per iteration\n",
        "plt.plot(r.history['loss'],label='loss')\n",
        "plt.plot(r.history['val_loss'],label='val_loss')\n",
        "plt.legend()"
      ],
      "metadata": {
        "colab": {
          "base_uri": "https://localhost:8080/",
          "height": 447
        },
        "id": "FvJmPaKh1dnE",
        "outputId": "20839a68-0e05-407e-de0b-4b94566e85c7"
      },
      "execution_count": null,
      "outputs": [
        {
          "output_type": "execute_result",
          "data": {
            "text/plain": [
              "<matplotlib.legend.Legend at 0x7f04a11df940>"
            ]
          },
          "metadata": {},
          "execution_count": 14
        },
        {
          "output_type": "display_data",
          "data": {
            "text/plain": [
              "<Figure size 640x480 with 1 Axes>"
            ],
            "image/png": "[encoded data removed]"
          },
          "metadata": {}
        }
      ]
    },
    {
      "cell_type": "code",
      "source": [
        "# Plotting accuracy per iteration\n",
        "plt.plot(r.history['accuracy'],label='accuracy')\n",
        "plt.plot(r.history['val_accuracy'],label='val_accuracy')\n",
        "plt.legend()"
      ],
      "metadata": {
        "colab": {
          "base_uri": "https://localhost:8080/",
          "height": 447
        },
        "id": "vwkL3JVG1jUk",
        "outputId": "a53ddc60-75e1-4ad4-eb06-7ff23b296728"
      },
      "execution_count": null,
      "outputs": [
        {
          "output_type": "execute_result",
          "data": {
            "text/plain": [
              "<matplotlib.legend.Legend at 0x7f04a010fcd0>"
            ]
          },
          "metadata": {},
          "execution_count": 15
        },
        {
          "output_type": "display_data",
          "data": {
            "text/plain": [
              "<Figure size 640x480 with 1 Axes>"
            ],
            "image/png": "[encoded data removed]"
          },
          "metadata": {}
        }
      ]
    },
    {
      "cell_type": "code",
      "source": [
        "# Evaluating our model\n",
        "\n",
        "print(model.evaluate(test_data.batch(1024)))"
      ],
      "metadata": {
        "colab": {
          "base_uri": "https://localhost:8080/"
        },
        "id": "NMD5v5_j1mcj",
        "outputId": "dc9800b9-1b29-4464-c5ba-4e1ac9b39047"
      },
      "execution_count": null,
      "outputs": [
        {
          "output_type": "stream",
          "name": "stdout",
          "text": [
            "25/25 [==============================] - 3s 108ms/step - loss: 0.3837 - accuracy: 0.8692\n",
            "[0.38372719287872314, 0.8691999912261963]\n"
          ]
        }
      ]
    },
    {
      "cell_type": "code",
      "source": [
        "# Model prediction score above 0 suggests that the sentiment is positive\n",
        "model.predict(['Definitely watch this movie with your family!'])"
      ],
      "metadata": {
        "colab": {
          "base_uri": "https://localhost:8080/"
        },
        "id": "Ml5ocN8Q2KOb",
        "outputId": "3b973f1d-e2db-4682-fd46-f678e48c9877"
      },
      "execution_count": null,
      "outputs": [
        {
          "output_type": "stream",
          "name": "stdout",
          "text": [
            "1/1 [==============================] - 0s 55ms/step\n"
          ]
        },
        {
          "output_type": "execute_result",
          "data": {
            "text/plain": [
              "array([[1.4899068]], dtype=float32)"
            ]
          },
          "metadata": {},
          "execution_count": 32
        }
      ]
    },
    {
      "cell_type": "code",
      "source": [
        "# Model prediction score below 0 suggests that the sentiment is negative\n",
        "model.predict(['Kindly avoid watching this movie with your family as it is simply horrible!'])"
      ],
      "metadata": {
        "colab": {
          "base_uri": "https://localhost:8080/"
        },
        "id": "DRU78QTA2-Cy",
        "outputId": "254ecee4-687e-4f61-9a29-10158f531b2f"
      },
      "execution_count": null,
      "outputs": [
        {
          "output_type": "stream",
          "name": "stdout",
          "text": [
            "1/1 [==============================] - 0s 38ms/step\n"
          ]
        },
        {
          "output_type": "execute_result",
          "data": {
            "text/plain": [
              "array([[-5.0656075]], dtype=float32)"
            ]
          },
          "metadata": {},
          "execution_count": 33
        }
      ]
    }
  ]
}